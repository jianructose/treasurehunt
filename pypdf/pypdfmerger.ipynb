{
 "cells": [
  {
   "cell_type": "markdown",
   "id": "42183f51-8472-4e81-8fda-a676602b9943",
   "metadata": {},
   "source": [
    "# Merge many PDF files using Python"
   ]
  },
  {
   "cell_type": "code",
   "execution_count": 2,
   "id": "873f6801-6522-4657-84ae-6ec7c0865535",
   "metadata": {},
   "outputs": [],
   "source": [
    "from PyPDF2 import PdfFileMerger \n",
    "import os"
   ]
  },
  {
   "cell_type": "code",
   "execution_count": 8,
   "id": "19353d7e-4271-4b46-aeec-bcfecfc81297",
   "metadata": {},
   "outputs": [],
   "source": [
    "# create and instance of pdffilemerger() class\n",
    "\n",
    "merger = PdfFileMerger()\n",
    "\n",
    "\n",
    "# create alist with pdf file names\n",
    "\n",
    "path_to_files = r'pdf_docs/'\n",
    "\n",
    "\n",
    "# get the file names in the dir\n",
    "\n",
    "for root, dirs, file_names in os.walk(path_to_files):\n",
    "    \n",
    "    for file_name in file_names:\n",
    "        \n",
    "        merger.append(path_to_files + file_name)"
   ]
  },
  {
   "cell_type": "code",
   "execution_count": 9,
   "id": "368470c7-a250-425d-8faf-dc3be1bc0d54",
   "metadata": {},
   "outputs": [],
   "source": [
    "merger.write(\"merged_all_pages.pdf\")\n",
    "\n",
    "merger.close()"
   ]
  },
  {
   "cell_type": "code",
   "execution_count": 5,
   "id": "2975a4e2-bf4b-4423-99fb-ee0cf205045b",
   "metadata": {},
   "outputs": [
    {
     "data": {
      "text/plain": [
       "'C:\\\\Users\\\\dengj\\\\ubc_mds_21\\\\treasurehunt\\\\pypdf'"
      ]
     },
     "execution_count": 5,
     "metadata": {},
     "output_type": "execute_result"
    }
   ],
   "source": []
  },
  {
   "cell_type": "code",
   "execution_count": null,
   "id": "0600fa66-3279-4920-a4ab-7a31301f9235",
   "metadata": {},
   "outputs": [],
   "source": []
  }
 ],
 "metadata": {
  "kernelspec": {
   "display_name": "Python 3",
   "language": "python",
   "name": "python3"
  },
  "language_info": {
   "codemirror_mode": {
    "name": "ipython",
    "version": 3
   },
   "file_extension": ".py",
   "mimetype": "text/x-python",
   "name": "python",
   "nbconvert_exporter": "python",
   "pygments_lexer": "ipython3",
   "version": "3.8.8"
  }
 },
 "nbformat": 4,
 "nbformat_minor": 5
}
